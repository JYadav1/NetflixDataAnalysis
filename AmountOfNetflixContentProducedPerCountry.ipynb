{
 "cells": [
  {
   "cell_type": "code",
   "execution_count": 129,
   "metadata": {},
   "outputs": [],
   "source": [
    "# Import the necessary libraries\n",
    "import pandas as pd\n",
    "import altair as alt\n",
    "import numpy as np\n",
    "import country_converter as coco\n",
    "import plotly.express as px\n",
    "from vega_datasets import data"
   ]
  },
  {
   "cell_type": "code",
   "execution_count": 130,
   "metadata": {},
   "outputs": [
    {
     "data": {
      "text/plain": [
       "United States                                      2555\n",
       "India                                               923\n",
       "United Kingdom                                      397\n",
       "Japan                                               226\n",
       "South Korea                                         183\n",
       "                                                   ... \n",
       "United States, Australia, Samoa, United Kingdom       1\n",
       "Spain, France, United States                          1\n",
       "Netherlands, Belgium, Germany, Jordan                 1\n",
       "United States, United Kingdom, Morocco                1\n",
       "China, United States, Australia                       1\n",
       "Name: country, Length: 681, dtype: int64"
      ]
     },
     "execution_count": 130,
     "metadata": {},
     "output_type": "execute_result"
    }
   ],
   "source": [
    "# Load the dataset in a df\n",
    "df = pd.read_csv(\"netflix_titles.csv\")\n",
    "df[\"country\"].value_counts()"
   ]
  },
  {
   "cell_type": "code",
   "execution_count": 131,
   "metadata": {},
   "outputs": [],
   "source": [
    "df_countries = df.dropna(subset=['country']).loc[:, 'country']"
   ]
  },
  {
   "cell_type": "code",
   "execution_count": 132,
   "metadata": {},
   "outputs": [
    {
     "data": {
      "text/html": [
       "<div>\n",
       "<style scoped>\n",
       "    .dataframe tbody tr th:only-of-type {\n",
       "        vertical-align: middle;\n",
       "    }\n",
       "\n",
       "    .dataframe tbody tr th {\n",
       "        vertical-align: top;\n",
       "    }\n",
       "\n",
       "    .dataframe thead th {\n",
       "        text-align: right;\n",
       "    }\n",
       "</style>\n",
       "<table border=\"1\" class=\"dataframe\">\n",
       "  <thead>\n",
       "    <tr style=\"text-align: right;\">\n",
       "      <th></th>\n",
       "      <th>country</th>\n",
       "      <th>count</th>\n",
       "    </tr>\n",
       "  </thead>\n",
       "  <tbody>\n",
       "    <tr>\n",
       "      <th>0</th>\n",
       "      <td>Brazil</td>\n",
       "      <td>88.0</td>\n",
       "    </tr>\n",
       "    <tr>\n",
       "      <th>1</th>\n",
       "      <td>Mexico</td>\n",
       "      <td>154.0</td>\n",
       "    </tr>\n",
       "    <tr>\n",
       "      <th>2</th>\n",
       "      <td>Singapore</td>\n",
       "      <td>39.0</td>\n",
       "    </tr>\n",
       "    <tr>\n",
       "      <th>3</th>\n",
       "      <td>United States</td>\n",
       "      <td>3297.0</td>\n",
       "    </tr>\n",
       "    <tr>\n",
       "      <th>4</th>\n",
       "      <td>Turkey</td>\n",
       "      <td>108.0</td>\n",
       "    </tr>\n",
       "    <tr>\n",
       "      <th>...</th>\n",
       "      <td>...</td>\n",
       "      <td>...</td>\n",
       "    </tr>\n",
       "    <tr>\n",
       "      <th>112</th>\n",
       "      <td>Sudan</td>\n",
       "      <td>1.0</td>\n",
       "    </tr>\n",
       "    <tr>\n",
       "      <th>113</th>\n",
       "      <td>Panama</td>\n",
       "      <td>1.0</td>\n",
       "    </tr>\n",
       "    <tr>\n",
       "      <th>114</th>\n",
       "      <td>Uganda</td>\n",
       "      <td>1.0</td>\n",
       "    </tr>\n",
       "    <tr>\n",
       "      <th>115</th>\n",
       "      <td>East Germany</td>\n",
       "      <td>1.0</td>\n",
       "    </tr>\n",
       "    <tr>\n",
       "      <th>116</th>\n",
       "      <td>Montenegro</td>\n",
       "      <td>1.0</td>\n",
       "    </tr>\n",
       "  </tbody>\n",
       "</table>\n",
       "<p>117 rows × 2 columns</p>\n",
       "</div>"
      ],
      "text/plain": [
       "           country   count\n",
       "0           Brazil    88.0\n",
       "1           Mexico   154.0\n",
       "2        Singapore    39.0\n",
       "3    United States  3297.0\n",
       "4           Turkey   108.0\n",
       "..             ...     ...\n",
       "112          Sudan     1.0\n",
       "113         Panama     1.0\n",
       "114         Uganda     1.0\n",
       "115   East Germany     1.0\n",
       "116     Montenegro     1.0\n",
       "\n",
       "[117 rows x 2 columns]"
      ]
     },
     "execution_count": 132,
     "metadata": {},
     "output_type": "execute_result"
    }
   ],
   "source": [
    "countries = df_countries.str.cat(sep=',').split(\",\")\n",
    "for i in range(len(countries)):\n",
    "    countries[i] = countries[i].strip()\n",
    "df_countries1 = pd.DataFrame(countries)\n",
    "\n",
    "df_countries_u = df_countries1[0].unique()\n",
    "\n",
    "df_countries_u = np.delete(df_countries_u, np.where(df_countries_u == ''))\n",
    "\n",
    "df_countries_count = pd.DataFrame({'country':df_countries_u, 'count':np.zeros(len(df_countries_u))}, columns = ['country', 'count'])\n",
    "\n",
    "c = df['country'] \n",
    "for i in range(len(df_countries_count)):\n",
    "    count = 0\n",
    "    for index, value in c.items():\n",
    "        if (df_countries_count.at[i, 'country'] in str(value)):\n",
    "            count += 1\n",
    "    df_countries_count.at[i, 'count'] = count\n",
    "df_countries_count\n",
    "        \n",
    "    "
   ]
  },
  {
   "cell_type": "code",
   "execution_count": 133,
   "metadata": {
    "scrolled": false
   },
   "outputs": [
    {
     "data": {
      "text/html": [
       "\n",
       "<div id=\"altair-viz-7547aa1ee9274e1cba3f5350b356a46c\"></div>\n",
       "<script type=\"text/javascript\">\n",
       "  (function(spec, embedOpt){\n",
       "    let outputDiv = document.currentScript.previousElementSibling;\n",
       "    if (outputDiv.id !== \"altair-viz-7547aa1ee9274e1cba3f5350b356a46c\") {\n",
       "      outputDiv = document.getElementById(\"altair-viz-7547aa1ee9274e1cba3f5350b356a46c\");\n",
       "    }\n",
       "    const paths = {\n",
       "      \"vega\": \"https://cdn.jsdelivr.net/npm//vega@5?noext\",\n",
       "      \"vega-lib\": \"https://cdn.jsdelivr.net/npm//vega-lib?noext\",\n",
       "      \"vega-lite\": \"https://cdn.jsdelivr.net/npm//vega-lite@4.8.1?noext\",\n",
       "      \"vega-embed\": \"https://cdn.jsdelivr.net/npm//vega-embed@6?noext\",\n",
       "    };\n",
       "\n",
       "    function loadScript(lib) {\n",
       "      return new Promise(function(resolve, reject) {\n",
       "        var s = document.createElement('script');\n",
       "        s.src = paths[lib];\n",
       "        s.async = true;\n",
       "        s.onload = () => resolve(paths[lib]);\n",
       "        s.onerror = () => reject(`Error loading script: ${paths[lib]}`);\n",
       "        document.getElementsByTagName(\"head\")[0].appendChild(s);\n",
       "      });\n",
       "    }\n",
       "\n",
       "    function showError(err) {\n",
       "      outputDiv.innerHTML = `<div class=\"error\" style=\"color:red;\">${err}</div>`;\n",
       "      throw err;\n",
       "    }\n",
       "\n",
       "    function displayChart(vegaEmbed) {\n",
       "      vegaEmbed(outputDiv, spec, embedOpt)\n",
       "        .catch(err => showError(`Javascript Error: ${err.message}<br>This usually means there's a typo in your chart specification. See the javascript console for the full traceback.`));\n",
       "    }\n",
       "\n",
       "    if(typeof define === \"function\" && define.amd) {\n",
       "      requirejs.config({paths});\n",
       "      require([\"vega-embed\"], displayChart, err => showError(`Error loading script: ${err.message}`));\n",
       "    } else if (typeof vegaEmbed === \"function\") {\n",
       "      displayChart(vegaEmbed);\n",
       "    } else {\n",
       "      loadScript(\"vega\")\n",
       "        .then(() => loadScript(\"vega-lite\"))\n",
       "        .then(() => loadScript(\"vega-embed\"))\n",
       "        .catch(showError)\n",
       "        .then(() => displayChart(vegaEmbed));\n",
       "    }\n",
       "  })({\"config\": {\"view\": {\"continuousWidth\": 400, \"continuousHeight\": 300}}, \"data\": {\"name\": \"data-ad20bf3af7f6f43745247d0f8468610c\"}, \"mark\": \"bar\", \"encoding\": {\"x\": {\"type\": \"nominal\", \"field\": \"country\", \"sort\": \"-y\"}, \"y\": {\"type\": \"quantitative\", \"field\": \"count\"}}, \"selection\": {\"selector011\": {\"type\": \"interval\", \"bind\": \"scales\", \"encodings\": [\"x\", \"y\"]}}, \"$schema\": \"https://vega.github.io/schema/vega-lite/v4.8.1.json\", \"datasets\": {\"data-ad20bf3af7f6f43745247d0f8468610c\": [{\"country\": \"Brazil\", \"count\": 88.0}, {\"country\": \"Mexico\", \"count\": 154.0}, {\"country\": \"Singapore\", \"count\": 39.0}, {\"country\": \"United States\", \"count\": 3297.0}, {\"country\": \"Turkey\", \"count\": 108.0}, {\"country\": \"Egypt\", \"count\": 110.0}, {\"country\": \"India\", \"count\": 990.0}, {\"country\": \"Poland\", \"count\": 36.0}, {\"country\": \"Thailand\", \"count\": 65.0}, {\"country\": \"Nigeria\", \"count\": 76.0}, {\"country\": \"Norway\", \"count\": 29.0}, {\"country\": \"Iceland\", \"count\": 9.0}, {\"country\": \"United Kingdom\", \"count\": 723.0}, {\"country\": \"Japan\", \"count\": 287.0}, {\"country\": \"South Korea\", \"count\": 212.0}, {\"country\": \"Italy\", \"count\": 90.0}, {\"country\": \"Canada\", \"count\": 412.0}, {\"country\": \"Indonesia\", \"count\": 80.0}, {\"country\": \"Romania\", \"count\": 12.0}, {\"country\": \"Spain\", \"count\": 215.0}, {\"country\": \"South Africa\", \"count\": 54.0}, {\"country\": \"France\", \"count\": 349.0}, {\"country\": \"Portugal\", \"count\": 4.0}, {\"country\": \"Hong Kong\", \"count\": 102.0}, {\"country\": \"China\", \"count\": 147.0}, {\"country\": \"Germany\", \"count\": 204.0}, {\"country\": \"Argentina\", \"count\": 82.0}, {\"country\": \"Serbia\", \"count\": 7.0}, {\"country\": \"Denmark\", \"count\": 44.0}, {\"country\": \"Kenya\", \"count\": 5.0}, {\"country\": \"New Zealand\", \"count\": 28.0}, {\"country\": \"Pakistan\", \"count\": 24.0}, {\"country\": \"Australia\", \"count\": 144.0}, {\"country\": \"Taiwan\", \"count\": 85.0}, {\"country\": \"Netherlands\", \"count\": 45.0}, {\"country\": \"Philippines\", \"count\": 78.0}, {\"country\": \"United Arab Emirates\", \"count\": 34.0}, {\"country\": \"Iran\", \"count\": 4.0}, {\"country\": \"Belgium\", \"count\": 85.0}, {\"country\": \"Israel\", \"count\": 26.0}, {\"country\": \"Uruguay\", \"count\": 14.0}, {\"country\": \"Bulgaria\", \"count\": 9.0}, {\"country\": \"Chile\", \"count\": 26.0}, {\"country\": \"Russia\", \"count\": 27.0}, {\"country\": \"Mauritius\", \"count\": 1.0}, {\"country\": \"Lebanon\", \"count\": 26.0}, {\"country\": \"Colombia\", \"count\": 45.0}, {\"country\": \"Algeria\", \"count\": 2.0}, {\"country\": \"Soviet Union\", \"count\": 3.0}, {\"country\": \"Sweden\", \"count\": 39.0}, {\"country\": \"Malaysia\", \"count\": 26.0}, {\"country\": \"Ireland\", \"count\": 40.0}, {\"country\": \"Luxembourg\", \"count\": 11.0}, {\"country\": \"Finland\", \"count\": 11.0}, {\"country\": \"Austria\", \"count\": 11.0}, {\"country\": \"Peru\", \"count\": 10.0}, {\"country\": \"Senegal\", \"count\": 3.0}, {\"country\": \"Switzerland\", \"count\": 17.0}, {\"country\": \"Ghana\", \"count\": 4.0}, {\"country\": \"Saudi Arabia\", \"count\": 10.0}, {\"country\": \"Armenia\", \"count\": 1.0}, {\"country\": \"Jordan\", \"count\": 8.0}, {\"country\": \"Mongolia\", \"count\": 1.0}, {\"country\": \"Namibia\", \"count\": 2.0}, {\"country\": \"Qatar\", \"count\": 7.0}, {\"country\": \"Vietnam\", \"count\": 5.0}, {\"country\": \"Syria\", \"count\": 1.0}, {\"country\": \"Kuwait\", \"count\": 7.0}, {\"country\": \"Malta\", \"count\": 3.0}, {\"country\": \"Czech Republic\", \"count\": 20.0}, {\"country\": \"Bahamas\", \"count\": 1.0}, {\"country\": \"Sri Lanka\", \"count\": 1.0}, {\"country\": \"Cayman Islands\", \"count\": 2.0}, {\"country\": \"Bangladesh\", \"count\": 3.0}, {\"country\": \"Zimbabwe\", \"count\": 3.0}, {\"country\": \"Hungary\", \"count\": 9.0}, {\"country\": \"Latvia\", \"count\": 1.0}, {\"country\": \"Liechtenstein\", \"count\": 1.0}, {\"country\": \"Venezuela\", \"count\": 3.0}, {\"country\": \"Morocco\", \"count\": 6.0}, {\"country\": \"Cambodia\", \"count\": 5.0}, {\"country\": \"Albania\", \"count\": 1.0}, {\"country\": \"Cuba\", \"count\": 1.0}, {\"country\": \"Nicaragua\", \"count\": 1.0}, {\"country\": \"Greece\", \"count\": 10.0}, {\"country\": \"Croatia\", \"count\": 4.0}, {\"country\": \"Guatemala\", \"count\": 2.0}, {\"country\": \"West Germany\", \"count\": 5.0}, {\"country\": \"Slovenia\", \"count\": 3.0}, {\"country\": \"Dominican Republic\", \"count\": 1.0}, {\"country\": \"Nepal\", \"count\": 2.0}, {\"country\": \"Samoa\", \"count\": 1.0}, {\"country\": \"Azerbaijan\", \"count\": 1.0}, {\"country\": \"Bermuda\", \"count\": 1.0}, {\"country\": \"Ecuador\", \"count\": 1.0}, {\"country\": \"Georgia\", \"count\": 2.0}, {\"country\": \"Botswana\", \"count\": 1.0}, {\"country\": \"Puerto Rico\", \"count\": 1.0}, {\"country\": \"Iraq\", \"count\": 2.0}, {\"country\": \"Vatican City\", \"count\": 1.0}, {\"country\": \"Angola\", \"count\": 1.0}, {\"country\": \"Ukraine\", \"count\": 3.0}, {\"country\": \"Jamaica\", \"count\": 1.0}, {\"country\": \"Belarus\", \"count\": 1.0}, {\"country\": \"Cyprus\", \"count\": 1.0}, {\"country\": \"Kazakhstan\", \"count\": 1.0}, {\"country\": \"Malawi\", \"count\": 1.0}, {\"country\": \"Slovakia\", \"count\": 1.0}, {\"country\": \"Lithuania\", \"count\": 1.0}, {\"country\": \"Afghanistan\", \"count\": 1.0}, {\"country\": \"Paraguay\", \"count\": 1.0}, {\"country\": \"Somalia\", \"count\": 1.0}, {\"country\": \"Sudan\", \"count\": 1.0}, {\"country\": \"Panama\", \"count\": 1.0}, {\"country\": \"Uganda\", \"count\": 1.0}, {\"country\": \"East Germany\", \"count\": 1.0}, {\"country\": \"Montenegro\", \"count\": 1.0}]}}, {\"mode\": \"vega-lite\"});\n",
       "</script>"
      ],
      "text/plain": [
       "alt.Chart(...)"
      ]
     },
     "execution_count": 133,
     "metadata": {},
     "output_type": "execute_result"
    }
   ],
   "source": [
    "# Creata a bar chart using altair\n",
    "alt.Chart(df_countries_count).mark_bar().encode(\n",
    "    x=alt.X('country', sort= '-y'),\n",
    "    y='count'\n",
    ").interactive()"
   ]
  },
  {
   "cell_type": "code",
   "execution_count": 134,
   "metadata": {},
   "outputs": [],
   "source": [
    "# Drop some of the countries that are not foound in coco\n",
    "df_countries_count = df_countries_count.drop(index=[48, 87, 115])\n"
   ]
  },
  {
   "cell_type": "code",
   "execution_count": 135,
   "metadata": {},
   "outputs": [],
   "source": [
    "# Get the json countries url\n",
    "country_json = alt.topo_feature(data.world_110m.url, 'countries')\n"
   ]
  },
  {
   "cell_type": "code",
   "execution_count": 136,
   "metadata": {},
   "outputs": [
    {
     "data": {
      "text/plain": [
       "0       76\n",
       "1      484\n",
       "2      702\n",
       "3      840\n",
       "4      792\n",
       "      ... \n",
       "111    706\n",
       "112    729\n",
       "113    591\n",
       "114    800\n",
       "116    499\n",
       "Name: id, Length: 114, dtype: int64"
      ]
     },
     "execution_count": 136,
     "metadata": {},
     "output_type": "execute_result"
    }
   ],
   "source": [
    "# use the coco library to get contruy codes\n",
    "ISOCodes = coco.convert(names=df_countries_count['country'], to='ISOnumeric') \n",
    "df_countries_count['id'] = ISOCodes\n",
    "df_countries_count['id']"
   ]
  },
  {
   "cell_type": "code",
   "execution_count": 137,
   "metadata": {},
   "outputs": [
    {
     "data": {
      "text/html": [
       "\n",
       "<div id=\"altair-viz-d969ee9402384c4d88bbf51be0a494e2\"></div>\n",
       "<script type=\"text/javascript\">\n",
       "  (function(spec, embedOpt){\n",
       "    let outputDiv = document.currentScript.previousElementSibling;\n",
       "    if (outputDiv.id !== \"altair-viz-d969ee9402384c4d88bbf51be0a494e2\") {\n",
       "      outputDiv = document.getElementById(\"altair-viz-d969ee9402384c4d88bbf51be0a494e2\");\n",
       "    }\n",
       "    const paths = {\n",
       "      \"vega\": \"https://cdn.jsdelivr.net/npm//vega@5?noext\",\n",
       "      \"vega-lib\": \"https://cdn.jsdelivr.net/npm//vega-lib?noext\",\n",
       "      \"vega-lite\": \"https://cdn.jsdelivr.net/npm//vega-lite@4.8.1?noext\",\n",
       "      \"vega-embed\": \"https://cdn.jsdelivr.net/npm//vega-embed@6?noext\",\n",
       "    };\n",
       "\n",
       "    function loadScript(lib) {\n",
       "      return new Promise(function(resolve, reject) {\n",
       "        var s = document.createElement('script');\n",
       "        s.src = paths[lib];\n",
       "        s.async = true;\n",
       "        s.onload = () => resolve(paths[lib]);\n",
       "        s.onerror = () => reject(`Error loading script: ${paths[lib]}`);\n",
       "        document.getElementsByTagName(\"head\")[0].appendChild(s);\n",
       "      });\n",
       "    }\n",
       "\n",
       "    function showError(err) {\n",
       "      outputDiv.innerHTML = `<div class=\"error\" style=\"color:red;\">${err}</div>`;\n",
       "      throw err;\n",
       "    }\n",
       "\n",
       "    function displayChart(vegaEmbed) {\n",
       "      vegaEmbed(outputDiv, spec, embedOpt)\n",
       "        .catch(err => showError(`Javascript Error: ${err.message}<br>This usually means there's a typo in your chart specification. See the javascript console for the full traceback.`));\n",
       "    }\n",
       "\n",
       "    if(typeof define === \"function\" && define.amd) {\n",
       "      requirejs.config({paths});\n",
       "      require([\"vega-embed\"], displayChart, err => showError(`Error loading script: ${err.message}`));\n",
       "    } else if (typeof vegaEmbed === \"function\") {\n",
       "      displayChart(vegaEmbed);\n",
       "    } else {\n",
       "      loadScript(\"vega\")\n",
       "        .then(() => loadScript(\"vega-lite\"))\n",
       "        .then(() => loadScript(\"vega-embed\"))\n",
       "        .catch(showError)\n",
       "        .then(() => displayChart(vegaEmbed));\n",
       "    }\n",
       "  })({\"config\": {\"view\": {\"continuousWidth\": 400, \"continuousHeight\": 300}}, \"data\": {\"url\": \"https://cdn.jsdelivr.net/npm/vega-datasets@v1.29.0/data/world-110m.json\", \"format\": {\"feature\": \"countries\", \"type\": \"topojson\"}}, \"mark\": \"geoshape\", \"encoding\": {\"color\": {\"type\": \"quantitative\", \"field\": \"count\"}}, \"height\": 400, \"projection\": {\"type\": \"equirectangular\"}, \"title\": \"Total Netflix Content Produced by each Country (1925-2021)\", \"transform\": [{\"lookup\": \"id\", \"from\": {\"data\": {\"name\": \"data-29acb2fee836ed142dc21a021ced1ce6\"}, \"key\": \"id\", \"fields\": [\"count\"]}}], \"width\": 700, \"$schema\": \"https://vega.github.io/schema/vega-lite/v4.8.1.json\", \"datasets\": {\"data-29acb2fee836ed142dc21a021ced1ce6\": [{\"country\": \"Brazil\", \"count\": 88.0, \"id\": 76}, {\"country\": \"Mexico\", \"count\": 154.0, \"id\": 484}, {\"country\": \"Singapore\", \"count\": 39.0, \"id\": 702}, {\"country\": \"United States\", \"count\": 3297.0, \"id\": 840}, {\"country\": \"Turkey\", \"count\": 108.0, \"id\": 792}, {\"country\": \"Egypt\", \"count\": 110.0, \"id\": 818}, {\"country\": \"India\", \"count\": 990.0, \"id\": 356}, {\"country\": \"Poland\", \"count\": 36.0, \"id\": 616}, {\"country\": \"Thailand\", \"count\": 65.0, \"id\": 764}, {\"country\": \"Nigeria\", \"count\": 76.0, \"id\": 566}, {\"country\": \"Norway\", \"count\": 29.0, \"id\": 578}, {\"country\": \"Iceland\", \"count\": 9.0, \"id\": 352}, {\"country\": \"United Kingdom\", \"count\": 723.0, \"id\": 826}, {\"country\": \"Japan\", \"count\": 287.0, \"id\": 392}, {\"country\": \"South Korea\", \"count\": 212.0, \"id\": 410}, {\"country\": \"Italy\", \"count\": 90.0, \"id\": 380}, {\"country\": \"Canada\", \"count\": 412.0, \"id\": 124}, {\"country\": \"Indonesia\", \"count\": 80.0, \"id\": 360}, {\"country\": \"Romania\", \"count\": 12.0, \"id\": 642}, {\"country\": \"Spain\", \"count\": 215.0, \"id\": 724}, {\"country\": \"South Africa\", \"count\": 54.0, \"id\": 710}, {\"country\": \"France\", \"count\": 349.0, \"id\": 250}, {\"country\": \"Portugal\", \"count\": 4.0, \"id\": 620}, {\"country\": \"Hong Kong\", \"count\": 102.0, \"id\": 344}, {\"country\": \"China\", \"count\": 147.0, \"id\": 156}, {\"country\": \"Germany\", \"count\": 204.0, \"id\": 276}, {\"country\": \"Argentina\", \"count\": 82.0, \"id\": 32}, {\"country\": \"Serbia\", \"count\": 7.0, \"id\": 688}, {\"country\": \"Denmark\", \"count\": 44.0, \"id\": 208}, {\"country\": \"Kenya\", \"count\": 5.0, \"id\": 404}, {\"country\": \"New Zealand\", \"count\": 28.0, \"id\": 554}, {\"country\": \"Pakistan\", \"count\": 24.0, \"id\": 586}, {\"country\": \"Australia\", \"count\": 144.0, \"id\": 36}, {\"country\": \"Taiwan\", \"count\": 85.0, \"id\": 158}, {\"country\": \"Netherlands\", \"count\": 45.0, \"id\": 528}, {\"country\": \"Philippines\", \"count\": 78.0, \"id\": 608}, {\"country\": \"United Arab Emirates\", \"count\": 34.0, \"id\": 784}, {\"country\": \"Iran\", \"count\": 4.0, \"id\": 364}, {\"country\": \"Belgium\", \"count\": 85.0, \"id\": 56}, {\"country\": \"Israel\", \"count\": 26.0, \"id\": 376}, {\"country\": \"Uruguay\", \"count\": 14.0, \"id\": 858}, {\"country\": \"Bulgaria\", \"count\": 9.0, \"id\": 100}, {\"country\": \"Chile\", \"count\": 26.0, \"id\": 152}, {\"country\": \"Russia\", \"count\": 27.0, \"id\": 643}, {\"country\": \"Mauritius\", \"count\": 1.0, \"id\": 480}, {\"country\": \"Lebanon\", \"count\": 26.0, \"id\": 422}, {\"country\": \"Colombia\", \"count\": 45.0, \"id\": 170}, {\"country\": \"Algeria\", \"count\": 2.0, \"id\": 12}, {\"country\": \"Sweden\", \"count\": 39.0, \"id\": 752}, {\"country\": \"Malaysia\", \"count\": 26.0, \"id\": 458}, {\"country\": \"Ireland\", \"count\": 40.0, \"id\": 372}, {\"country\": \"Luxembourg\", \"count\": 11.0, \"id\": 442}, {\"country\": \"Finland\", \"count\": 11.0, \"id\": 246}, {\"country\": \"Austria\", \"count\": 11.0, \"id\": 40}, {\"country\": \"Peru\", \"count\": 10.0, \"id\": 604}, {\"country\": \"Senegal\", \"count\": 3.0, \"id\": 686}, {\"country\": \"Switzerland\", \"count\": 17.0, \"id\": 756}, {\"country\": \"Ghana\", \"count\": 4.0, \"id\": 288}, {\"country\": \"Saudi Arabia\", \"count\": 10.0, \"id\": 682}, {\"country\": \"Armenia\", \"count\": 1.0, \"id\": 51}, {\"country\": \"Jordan\", \"count\": 8.0, \"id\": 400}, {\"country\": \"Mongolia\", \"count\": 1.0, \"id\": 496}, {\"country\": \"Namibia\", \"count\": 2.0, \"id\": 516}, {\"country\": \"Qatar\", \"count\": 7.0, \"id\": 634}, {\"country\": \"Vietnam\", \"count\": 5.0, \"id\": 704}, {\"country\": \"Syria\", \"count\": 1.0, \"id\": 760}, {\"country\": \"Kuwait\", \"count\": 7.0, \"id\": 414}, {\"country\": \"Malta\", \"count\": 3.0, \"id\": 470}, {\"country\": \"Czech Republic\", \"count\": 20.0, \"id\": 203}, {\"country\": \"Bahamas\", \"count\": 1.0, \"id\": 44}, {\"country\": \"Sri Lanka\", \"count\": 1.0, \"id\": 144}, {\"country\": \"Cayman Islands\", \"count\": 2.0, \"id\": 136}, {\"country\": \"Bangladesh\", \"count\": 3.0, \"id\": 50}, {\"country\": \"Zimbabwe\", \"count\": 3.0, \"id\": 716}, {\"country\": \"Hungary\", \"count\": 9.0, \"id\": 348}, {\"country\": \"Latvia\", \"count\": 1.0, \"id\": 428}, {\"country\": \"Liechtenstein\", \"count\": 1.0, \"id\": 438}, {\"country\": \"Venezuela\", \"count\": 3.0, \"id\": 862}, {\"country\": \"Morocco\", \"count\": 6.0, \"id\": 504}, {\"country\": \"Cambodia\", \"count\": 5.0, \"id\": 116}, {\"country\": \"Albania\", \"count\": 1.0, \"id\": 8}, {\"country\": \"Cuba\", \"count\": 1.0, \"id\": 192}, {\"country\": \"Nicaragua\", \"count\": 1.0, \"id\": 558}, {\"country\": \"Greece\", \"count\": 10.0, \"id\": 300}, {\"country\": \"Croatia\", \"count\": 4.0, \"id\": 191}, {\"country\": \"Guatemala\", \"count\": 2.0, \"id\": 320}, {\"country\": \"Slovenia\", \"count\": 3.0, \"id\": 705}, {\"country\": \"Dominican Republic\", \"count\": 1.0, \"id\": 214}, {\"country\": \"Nepal\", \"count\": 2.0, \"id\": 524}, {\"country\": \"Samoa\", \"count\": 1.0, \"id\": 882}, {\"country\": \"Azerbaijan\", \"count\": 1.0, \"id\": 31}, {\"country\": \"Bermuda\", \"count\": 1.0, \"id\": 60}, {\"country\": \"Ecuador\", \"count\": 1.0, \"id\": 218}, {\"country\": \"Georgia\", \"count\": 2.0, \"id\": 268}, {\"country\": \"Botswana\", \"count\": 1.0, \"id\": 72}, {\"country\": \"Puerto Rico\", \"count\": 1.0, \"id\": 630}, {\"country\": \"Iraq\", \"count\": 2.0, \"id\": 368}, {\"country\": \"Vatican City\", \"count\": 1.0, \"id\": 336}, {\"country\": \"Angola\", \"count\": 1.0, \"id\": 24}, {\"country\": \"Ukraine\", \"count\": 3.0, \"id\": 804}, {\"country\": \"Jamaica\", \"count\": 1.0, \"id\": 388}, {\"country\": \"Belarus\", \"count\": 1.0, \"id\": 112}, {\"country\": \"Cyprus\", \"count\": 1.0, \"id\": 196}, {\"country\": \"Kazakhstan\", \"count\": 1.0, \"id\": 398}, {\"country\": \"Malawi\", \"count\": 1.0, \"id\": 454}, {\"country\": \"Slovakia\", \"count\": 1.0, \"id\": 703}, {\"country\": \"Lithuania\", \"count\": 1.0, \"id\": 440}, {\"country\": \"Afghanistan\", \"count\": 1.0, \"id\": 4}, {\"country\": \"Paraguay\", \"count\": 1.0, \"id\": 600}, {\"country\": \"Somalia\", \"count\": 1.0, \"id\": 706}, {\"country\": \"Sudan\", \"count\": 1.0, \"id\": 729}, {\"country\": \"Panama\", \"count\": 1.0, \"id\": 591}, {\"country\": \"Uganda\", \"count\": 1.0, \"id\": 800}, {\"country\": \"Montenegro\", \"count\": 1.0, \"id\": 499}]}}, {\"mode\": \"vega-lite\"});\n",
       "</script>"
      ],
      "text/plain": [
       "alt.Chart(...)"
      ]
     },
     "execution_count": 137,
     "metadata": {},
     "output_type": "execute_result"
    }
   ],
   "source": [
    "# Display a world map of the data\n",
    "netflix_map = alt.Chart(country_json).mark_geoshape().encode(\n",
    "    color='count:Q',\n",
    ").transform_lookup(\n",
    "    lookup='id',\n",
    "    from_=alt.LookupData(df_countries_count, 'id', ['count'])\n",
    ").project(\n",
    "    type='equirectangular'\n",
    ").properties(\n",
    "    width=700,\n",
    "    height=400,\n",
    "    title=\"Total Netflix Content Produced by each Country (1925-2021)\"\n",
    ")\n",
    "netflix_map"
   ]
  },
  {
   "cell_type": "code",
   "execution_count": 124,
   "metadata": {},
   "outputs": [],
   "source": [
    "#Save the dataframe into a csv file\n",
    "df_countries_count.to_csv('AmountOfNetflixContentProducedPerCountry.csv')\n",
    "                          "
   ]
  },
  {
   "cell_type": "code",
   "execution_count": null,
   "metadata": {},
   "outputs": [],
   "source": [
    "fig = px.choropleth(df , locations = 'country', locationmode = 'country names', color = 'show_id')\n",
    "fig.update_layout(title_text = 'Global spread of Covid19')\n",
    "fig.show()\n"
   ]
  },
  {
   "cell_type": "code",
   "execution_count": null,
   "metadata": {},
   "outputs": [],
   "source": []
  }
 ],
 "metadata": {
  "kernelspec": {
   "display_name": "Python 3",
   "language": "python",
   "name": "python3"
  },
  "language_info": {
   "codemirror_mode": {
    "name": "ipython",
    "version": 3
   },
   "file_extension": ".py",
   "mimetype": "text/x-python",
   "name": "python",
   "nbconvert_exporter": "python",
   "pygments_lexer": "ipython3",
   "version": "3.8.3"
  }
 },
 "nbformat": 4,
 "nbformat_minor": 4
}
