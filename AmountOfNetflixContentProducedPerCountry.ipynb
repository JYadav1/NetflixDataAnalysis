{
 "cells": [
  {
   "cell_type": "code",
   "execution_count": 178,
   "metadata": {},
   "outputs": [],
   "source": [
    "# Import the necessary libraries\n",
    "import pandas as pd\n",
    "import altair as alt\n",
    "import numpy as np\n",
    "from vega_datasets import data\n"
   ]
  },
  {
   "cell_type": "code",
   "execution_count": 179,
   "metadata": {},
   "outputs": [
    {
     "data": {
      "text/plain": [
       "United States                               2555\n",
       "India                                        923\n",
       "United Kingdom                               397\n",
       "Japan                                        226\n",
       "South Korea                                  183\n",
       "                                            ... \n",
       "Turkey, France, Germany, Poland                1\n",
       "France, China, Japan, United States            1\n",
       "Finland, Sweden, Norway, Latvia, Germany       1\n",
       "France, United Kingdom, India                  1\n",
       "Germany, Italy                                 1\n",
       "Name: country, Length: 681, dtype: int64"
      ]
     },
     "execution_count": 179,
     "metadata": {},
     "output_type": "execute_result"
    }
   ],
   "source": [
    "# Load the dataset in a df\n",
    "df = pd.read_csv(\"netflix_titles.csv\")\n",
    "df[\"country\"].value_counts()"
   ]
  },
  {
   "cell_type": "code",
   "execution_count": 185,
   "metadata": {},
   "outputs": [],
   "source": [
    "df_countries = df.dropna(subset=['country']).loc[:, 'country']"
   ]
  },
  {
   "cell_type": "code",
   "execution_count": 186,
   "metadata": {},
   "outputs": [
    {
     "data": {
      "text/html": [
       "<div>\n",
       "<style scoped>\n",
       "    .dataframe tbody tr th:only-of-type {\n",
       "        vertical-align: middle;\n",
       "    }\n",
       "\n",
       "    .dataframe tbody tr th {\n",
       "        vertical-align: top;\n",
       "    }\n",
       "\n",
       "    .dataframe thead th {\n",
       "        text-align: right;\n",
       "    }\n",
       "</style>\n",
       "<table border=\"1\" class=\"dataframe\">\n",
       "  <thead>\n",
       "    <tr style=\"text-align: right;\">\n",
       "      <th></th>\n",
       "      <th>country</th>\n",
       "      <th>count</th>\n",
       "    </tr>\n",
       "  </thead>\n",
       "  <tbody>\n",
       "    <tr>\n",
       "      <th>0</th>\n",
       "      <td>Brazil</td>\n",
       "      <td>88.0</td>\n",
       "    </tr>\n",
       "    <tr>\n",
       "      <th>1</th>\n",
       "      <td>Mexico</td>\n",
       "      <td>154.0</td>\n",
       "    </tr>\n",
       "    <tr>\n",
       "      <th>2</th>\n",
       "      <td>Singapore</td>\n",
       "      <td>39.0</td>\n",
       "    </tr>\n",
       "    <tr>\n",
       "      <th>3</th>\n",
       "      <td>United States</td>\n",
       "      <td>3297.0</td>\n",
       "    </tr>\n",
       "    <tr>\n",
       "      <th>4</th>\n",
       "      <td>Turkey</td>\n",
       "      <td>108.0</td>\n",
       "    </tr>\n",
       "    <tr>\n",
       "      <th>...</th>\n",
       "      <td>...</td>\n",
       "      <td>...</td>\n",
       "    </tr>\n",
       "    <tr>\n",
       "      <th>112</th>\n",
       "      <td>Sudan</td>\n",
       "      <td>1.0</td>\n",
       "    </tr>\n",
       "    <tr>\n",
       "      <th>113</th>\n",
       "      <td>Panama</td>\n",
       "      <td>1.0</td>\n",
       "    </tr>\n",
       "    <tr>\n",
       "      <th>114</th>\n",
       "      <td>Uganda</td>\n",
       "      <td>1.0</td>\n",
       "    </tr>\n",
       "    <tr>\n",
       "      <th>115</th>\n",
       "      <td>East Germany</td>\n",
       "      <td>1.0</td>\n",
       "    </tr>\n",
       "    <tr>\n",
       "      <th>116</th>\n",
       "      <td>Montenegro</td>\n",
       "      <td>1.0</td>\n",
       "    </tr>\n",
       "  </tbody>\n",
       "</table>\n",
       "<p>117 rows × 2 columns</p>\n",
       "</div>"
      ],
      "text/plain": [
       "           country   count\n",
       "0           Brazil    88.0\n",
       "1           Mexico   154.0\n",
       "2        Singapore    39.0\n",
       "3    United States  3297.0\n",
       "4           Turkey   108.0\n",
       "..             ...     ...\n",
       "112          Sudan     1.0\n",
       "113         Panama     1.0\n",
       "114         Uganda     1.0\n",
       "115   East Germany     1.0\n",
       "116     Montenegro     1.0\n",
       "\n",
       "[117 rows x 2 columns]"
      ]
     },
     "execution_count": 186,
     "metadata": {},
     "output_type": "execute_result"
    }
   ],
   "source": [
    "countries = df_countries.str.cat(sep=',').split(\",\")\n",
    "for i in range(len(countries)):\n",
    "    countries[i] = countries[i].strip()\n",
    "df_countries1 = pd.DataFrame(countries)\n",
    "\n",
    "df_countries_u = df_countries1[0].unique()\n",
    "\n",
    "df_countries_u = np.delete(df_countries_u, np.where(df_countries_u == ''))\n",
    "\n",
    "df_countries_count = pd.DataFrame({'country':df_countries_u, 'count':np.zeros(len(df_countries_u))}, columns = ['country', 'count'])\n",
    "df_countries_count\n",
    "\n",
    "c = df['country'] \n",
    "for i in range(len(df_countries_count)):\n",
    "    count = 0\n",
    "    for index, value in c.items():\n",
    "        if (df_countries_count.at[i, 'country'] in str(value)):\n",
    "            count += 1\n",
    "    df_countries_count.at[i, 'count'] = count\n",
    "df_countries_count\n",
    "        \n",
    "    "
   ]
  },
  {
   "cell_type": "code",
   "execution_count": 187,
   "metadata": {
    "scrolled": true
   },
   "outputs": [
    {
     "data": {
      "text/html": [
       "\n",
       "<div id=\"altair-viz-f228599d06ab46e2a142f62baa8ee25a\"></div>\n",
       "<script type=\"text/javascript\">\n",
       "  (function(spec, embedOpt){\n",
       "    let outputDiv = document.currentScript.previousElementSibling;\n",
       "    if (outputDiv.id !== \"altair-viz-f228599d06ab46e2a142f62baa8ee25a\") {\n",
       "      outputDiv = document.getElementById(\"altair-viz-f228599d06ab46e2a142f62baa8ee25a\");\n",
       "    }\n",
       "    const paths = {\n",
       "      \"vega\": \"https://cdn.jsdelivr.net/npm//vega@5?noext\",\n",
       "      \"vega-lib\": \"https://cdn.jsdelivr.net/npm//vega-lib?noext\",\n",
       "      \"vega-lite\": \"https://cdn.jsdelivr.net/npm//vega-lite@4.8.1?noext\",\n",
       "      \"vega-embed\": \"https://cdn.jsdelivr.net/npm//vega-embed@6?noext\",\n",
       "    };\n",
       "\n",
       "    function loadScript(lib) {\n",
       "      return new Promise(function(resolve, reject) {\n",
       "        var s = document.createElement('script');\n",
       "        s.src = paths[lib];\n",
       "        s.async = true;\n",
       "        s.onload = () => resolve(paths[lib]);\n",
       "        s.onerror = () => reject(`Error loading script: ${paths[lib]}`);\n",
       "        document.getElementsByTagName(\"head\")[0].appendChild(s);\n",
       "      });\n",
       "    }\n",
       "\n",
       "    function showError(err) {\n",
       "      outputDiv.innerHTML = `<div class=\"error\" style=\"color:red;\">${err}</div>`;\n",
       "      throw err;\n",
       "    }\n",
       "\n",
       "    function displayChart(vegaEmbed) {\n",
       "      vegaEmbed(outputDiv, spec, embedOpt)\n",
       "        .catch(err => showError(`Javascript Error: ${err.message}<br>This usually means there's a typo in your chart specification. See the javascript console for the full traceback.`));\n",
       "    }\n",
       "\n",
       "    if(typeof define === \"function\" && define.amd) {\n",
       "      requirejs.config({paths});\n",
       "      require([\"vega-embed\"], displayChart, err => showError(`Error loading script: ${err.message}`));\n",
       "    } else if (typeof vegaEmbed === \"function\") {\n",
       "      displayChart(vegaEmbed);\n",
       "    } else {\n",
       "      loadScript(\"vega\")\n",
       "        .then(() => loadScript(\"vega-lite\"))\n",
       "        .then(() => loadScript(\"vega-embed\"))\n",
       "        .catch(showError)\n",
       "        .then(() => displayChart(vegaEmbed));\n",
       "    }\n",
       "  })({\"config\": {\"view\": {\"continuousWidth\": 400, \"continuousHeight\": 300}}, \"data\": {\"name\": \"data-ad20bf3af7f6f43745247d0f8468610c\"}, \"mark\": \"bar\", \"encoding\": {\"x\": {\"type\": \"nominal\", \"field\": \"country\", \"sort\": \"-y\"}, \"y\": {\"type\": \"quantitative\", \"field\": \"count\"}}, \"selection\": {\"selector007\": {\"type\": \"interval\", \"bind\": \"scales\", \"encodings\": [\"x\", \"y\"]}}, \"$schema\": \"https://vega.github.io/schema/vega-lite/v4.8.1.json\", \"datasets\": {\"data-ad20bf3af7f6f43745247d0f8468610c\": [{\"country\": \"Brazil\", \"count\": 88.0}, {\"country\": \"Mexico\", \"count\": 154.0}, {\"country\": \"Singapore\", \"count\": 39.0}, {\"country\": \"United States\", \"count\": 3297.0}, {\"country\": \"Turkey\", \"count\": 108.0}, {\"country\": \"Egypt\", \"count\": 110.0}, {\"country\": \"India\", \"count\": 990.0}, {\"country\": \"Poland\", \"count\": 36.0}, {\"country\": \"Thailand\", \"count\": 65.0}, {\"country\": \"Nigeria\", \"count\": 76.0}, {\"country\": \"Norway\", \"count\": 29.0}, {\"country\": \"Iceland\", \"count\": 9.0}, {\"country\": \"United Kingdom\", \"count\": 723.0}, {\"country\": \"Japan\", \"count\": 287.0}, {\"country\": \"South Korea\", \"count\": 212.0}, {\"country\": \"Italy\", \"count\": 90.0}, {\"country\": \"Canada\", \"count\": 412.0}, {\"country\": \"Indonesia\", \"count\": 80.0}, {\"country\": \"Romania\", \"count\": 12.0}, {\"country\": \"Spain\", \"count\": 215.0}, {\"country\": \"South Africa\", \"count\": 54.0}, {\"country\": \"France\", \"count\": 349.0}, {\"country\": \"Portugal\", \"count\": 4.0}, {\"country\": \"Hong Kong\", \"count\": 102.0}, {\"country\": \"China\", \"count\": 147.0}, {\"country\": \"Germany\", \"count\": 204.0}, {\"country\": \"Argentina\", \"count\": 82.0}, {\"country\": \"Serbia\", \"count\": 7.0}, {\"country\": \"Denmark\", \"count\": 44.0}, {\"country\": \"Kenya\", \"count\": 5.0}, {\"country\": \"New Zealand\", \"count\": 28.0}, {\"country\": \"Pakistan\", \"count\": 24.0}, {\"country\": \"Australia\", \"count\": 144.0}, {\"country\": \"Taiwan\", \"count\": 85.0}, {\"country\": \"Netherlands\", \"count\": 45.0}, {\"country\": \"Philippines\", \"count\": 78.0}, {\"country\": \"United Arab Emirates\", \"count\": 34.0}, {\"country\": \"Iran\", \"count\": 4.0}, {\"country\": \"Belgium\", \"count\": 85.0}, {\"country\": \"Israel\", \"count\": 26.0}, {\"country\": \"Uruguay\", \"count\": 14.0}, {\"country\": \"Bulgaria\", \"count\": 9.0}, {\"country\": \"Chile\", \"count\": 26.0}, {\"country\": \"Russia\", \"count\": 27.0}, {\"country\": \"Mauritius\", \"count\": 1.0}, {\"country\": \"Lebanon\", \"count\": 26.0}, {\"country\": \"Colombia\", \"count\": 45.0}, {\"country\": \"Algeria\", \"count\": 2.0}, {\"country\": \"Soviet Union\", \"count\": 3.0}, {\"country\": \"Sweden\", \"count\": 39.0}, {\"country\": \"Malaysia\", \"count\": 26.0}, {\"country\": \"Ireland\", \"count\": 40.0}, {\"country\": \"Luxembourg\", \"count\": 11.0}, {\"country\": \"Finland\", \"count\": 11.0}, {\"country\": \"Austria\", \"count\": 11.0}, {\"country\": \"Peru\", \"count\": 10.0}, {\"country\": \"Senegal\", \"count\": 3.0}, {\"country\": \"Switzerland\", \"count\": 17.0}, {\"country\": \"Ghana\", \"count\": 4.0}, {\"country\": \"Saudi Arabia\", \"count\": 10.0}, {\"country\": \"Armenia\", \"count\": 1.0}, {\"country\": \"Jordan\", \"count\": 8.0}, {\"country\": \"Mongolia\", \"count\": 1.0}, {\"country\": \"Namibia\", \"count\": 2.0}, {\"country\": \"Qatar\", \"count\": 7.0}, {\"country\": \"Vietnam\", \"count\": 5.0}, {\"country\": \"Syria\", \"count\": 1.0}, {\"country\": \"Kuwait\", \"count\": 7.0}, {\"country\": \"Malta\", \"count\": 3.0}, {\"country\": \"Czech Republic\", \"count\": 20.0}, {\"country\": \"Bahamas\", \"count\": 1.0}, {\"country\": \"Sri Lanka\", \"count\": 1.0}, {\"country\": \"Cayman Islands\", \"count\": 2.0}, {\"country\": \"Bangladesh\", \"count\": 3.0}, {\"country\": \"Zimbabwe\", \"count\": 3.0}, {\"country\": \"Hungary\", \"count\": 9.0}, {\"country\": \"Latvia\", \"count\": 1.0}, {\"country\": \"Liechtenstein\", \"count\": 1.0}, {\"country\": \"Venezuela\", \"count\": 3.0}, {\"country\": \"Morocco\", \"count\": 6.0}, {\"country\": \"Cambodia\", \"count\": 5.0}, {\"country\": \"Albania\", \"count\": 1.0}, {\"country\": \"Cuba\", \"count\": 1.0}, {\"country\": \"Nicaragua\", \"count\": 1.0}, {\"country\": \"Greece\", \"count\": 10.0}, {\"country\": \"Croatia\", \"count\": 4.0}, {\"country\": \"Guatemala\", \"count\": 2.0}, {\"country\": \"West Germany\", \"count\": 5.0}, {\"country\": \"Slovenia\", \"count\": 3.0}, {\"country\": \"Dominican Republic\", \"count\": 1.0}, {\"country\": \"Nepal\", \"count\": 2.0}, {\"country\": \"Samoa\", \"count\": 1.0}, {\"country\": \"Azerbaijan\", \"count\": 1.0}, {\"country\": \"Bermuda\", \"count\": 1.0}, {\"country\": \"Ecuador\", \"count\": 1.0}, {\"country\": \"Georgia\", \"count\": 2.0}, {\"country\": \"Botswana\", \"count\": 1.0}, {\"country\": \"Puerto Rico\", \"count\": 1.0}, {\"country\": \"Iraq\", \"count\": 2.0}, {\"country\": \"Vatican City\", \"count\": 1.0}, {\"country\": \"Angola\", \"count\": 1.0}, {\"country\": \"Ukraine\", \"count\": 3.0}, {\"country\": \"Jamaica\", \"count\": 1.0}, {\"country\": \"Belarus\", \"count\": 1.0}, {\"country\": \"Cyprus\", \"count\": 1.0}, {\"country\": \"Kazakhstan\", \"count\": 1.0}, {\"country\": \"Malawi\", \"count\": 1.0}, {\"country\": \"Slovakia\", \"count\": 1.0}, {\"country\": \"Lithuania\", \"count\": 1.0}, {\"country\": \"Afghanistan\", \"count\": 1.0}, {\"country\": \"Paraguay\", \"count\": 1.0}, {\"country\": \"Somalia\", \"count\": 1.0}, {\"country\": \"Sudan\", \"count\": 1.0}, {\"country\": \"Panama\", \"count\": 1.0}, {\"country\": \"Uganda\", \"count\": 1.0}, {\"country\": \"East Germany\", \"count\": 1.0}, {\"country\": \"Montenegro\", \"count\": 1.0}]}}, {\"mode\": \"vega-lite\"});\n",
       "</script>"
      ],
      "text/plain": [
       "alt.Chart(...)"
      ]
     },
     "execution_count": 187,
     "metadata": {},
     "output_type": "execute_result"
    }
   ],
   "source": [
    "# Creata a bar chart using altair\n",
    "alt.Chart(df_countries_count).mark_bar().encode(\n",
    "    x=alt.X('country', sort= '-y'),\n",
    "    y='count'\n",
    ").interactive()"
   ]
  },
  {
   "cell_type": "code",
   "execution_count": 184,
   "metadata": {},
   "outputs": [],
   "source": [
    "#Save the dataframe into a csv file\n",
    "df_countries_count.to_csv('AmountOfNetflixContentProducedPerCountry.csv')"
   ]
  }
 ],
 "metadata": {
  "kernelspec": {
   "display_name": "Python 3",
   "language": "python",
   "name": "python3"
  },
  "language_info": {
   "codemirror_mode": {
    "name": "ipython",
    "version": 3
   },
   "file_extension": ".py",
   "mimetype": "text/x-python",
   "name": "python",
   "nbconvert_exporter": "python",
   "pygments_lexer": "ipython3",
   "version": "3.8.3"
  }
 },
 "nbformat": 4,
 "nbformat_minor": 4
}
