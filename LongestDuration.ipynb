{
 "cells": [
  {
   "cell_type": "code",
   "execution_count": 43,
   "metadata": {},
   "outputs": [],
   "source": [
    "# import the necessary libraries\n",
    "import pandas as pd\n",
    "import altair as alt"
   ]
  },
  {
   "cell_type": "code",
   "execution_count": 44,
   "metadata": {},
   "outputs": [],
   "source": [
    "# creata a dataframe with the csv file\n",
    "df = pd.read_csv('netflix_titles.csv')\n"
   ]
  },
  {
   "cell_type": "code",
   "execution_count": 53,
   "metadata": {
    "scrolled": true
   },
   "outputs": [],
   "source": [
    "# Create a series that has the counts of movies(min) in duration\n",
    "df_movies = df[df[\"type\"] == \"Movie\"][\"duration\"].value_counts()\n",
    "# Create a series that has the counts of tvShows(Seasons) in duration\n",
    "df_shows = df[df['type'] == 'TV Show']['duration'].value_counts()\n",
    "# Change the series into a dataframe\n",
    "df_movies1 = pd.DataFrame({'duration':df_movies.index, 'count':df_movies.values})\n",
    "# Change the series into a dataframe\n",
    "df_shows1 = pd.DataFrame({'duration':df_shows.index, 'count':df_shows.values})\n"
   ]
  },
  {
   "cell_type": "code",
   "execution_count": 54,
   "metadata": {},
   "outputs": [
    {
     "data": {
      "text/html": [
       "\n",
       "<div id=\"altair-viz-40770f15f8c1458ba42614e81b9fed3b\"></div>\n",
       "<script type=\"text/javascript\">\n",
       "  (function(spec, embedOpt){\n",
       "    let outputDiv = document.currentScript.previousElementSibling;\n",
       "    if (outputDiv.id !== \"altair-viz-40770f15f8c1458ba42614e81b9fed3b\") {\n",
       "      outputDiv = document.getElementById(\"altair-viz-40770f15f8c1458ba42614e81b9fed3b\");\n",
       "    }\n",
       "    const paths = {\n",
       "      \"vega\": \"https://cdn.jsdelivr.net/npm//vega@5?noext\",\n",
       "      \"vega-lib\": \"https://cdn.jsdelivr.net/npm//vega-lib?noext\",\n",
       "      \"vega-lite\": \"https://cdn.jsdelivr.net/npm//vega-lite@4.8.1?noext\",\n",
       "      \"vega-embed\": \"https://cdn.jsdelivr.net/npm//vega-embed@6?noext\",\n",
       "    };\n",
       "\n",
       "    function loadScript(lib) {\n",
       "      return new Promise(function(resolve, reject) {\n",
       "        var s = document.createElement('script');\n",
       "        s.src = paths[lib];\n",
       "        s.async = true;\n",
       "        s.onload = () => resolve(paths[lib]);\n",
       "        s.onerror = () => reject(`Error loading script: ${paths[lib]}`);\n",
       "        document.getElementsByTagName(\"head\")[0].appendChild(s);\n",
       "      });\n",
       "    }\n",
       "\n",
       "    function showError(err) {\n",
       "      outputDiv.innerHTML = `<div class=\"error\" style=\"color:red;\">${err}</div>`;\n",
       "      throw err;\n",
       "    }\n",
       "\n",
       "    function displayChart(vegaEmbed) {\n",
       "      vegaEmbed(outputDiv, spec, embedOpt)\n",
       "        .catch(err => showError(`Javascript Error: ${err.message}<br>This usually means there's a typo in your chart specification. See the javascript console for the full traceback.`));\n",
       "    }\n",
       "\n",
       "    if(typeof define === \"function\" && define.amd) {\n",
       "      requirejs.config({paths});\n",
       "      require([\"vega-embed\"], displayChart, err => showError(`Error loading script: ${err.message}`));\n",
       "    } else if (typeof vegaEmbed === \"function\") {\n",
       "      displayChart(vegaEmbed);\n",
       "    } else {\n",
       "      loadScript(\"vega\")\n",
       "        .then(() => loadScript(\"vega-lite\"))\n",
       "        .then(() => loadScript(\"vega-embed\"))\n",
       "        .catch(showError)\n",
       "        .then(() => displayChart(vegaEmbed));\n",
       "    }\n",
       "  })({\"config\": {\"view\": {\"continuousWidth\": 400, \"continuousHeight\": 300}}, \"data\": {\"name\": \"data-9c6148842b555a5432e895d1c6e74929\"}, \"mark\": \"bar\", \"encoding\": {\"x\": {\"type\": \"nominal\", \"field\": \"duration\", \"sort\": \"-y\"}, \"y\": {\"type\": \"quantitative\", \"field\": \"count\"}}, \"selection\": {\"selector002\": {\"type\": \"interval\", \"bind\": \"scales\", \"encodings\": [\"x\", \"y\"]}}, \"$schema\": \"https://vega.github.io/schema/vega-lite/v4.8.1.json\", \"datasets\": {\"data-9c6148842b555a5432e895d1c6e74929\": [{\"duration\": \"1 Season\", \"count\": 1608}, {\"duration\": \"2 Seasons\", \"count\": 382}, {\"duration\": \"3 Seasons\", \"count\": 184}, {\"duration\": \"4 Seasons\", \"count\": 87}, {\"duration\": \"5 Seasons\", \"count\": 58}, {\"duration\": \"6 Seasons\", \"count\": 30}, {\"duration\": \"7 Seasons\", \"count\": 19}, {\"duration\": \"8 Seasons\", \"count\": 18}, {\"duration\": \"9 Seasons\", \"count\": 8}, {\"duration\": \"10 Seasons\", \"count\": 6}, {\"duration\": \"11 Seasons\", \"count\": 3}, {\"duration\": \"12 Seasons\", \"count\": 2}, {\"duration\": \"15 Seasons\", \"count\": 2}, {\"duration\": \"13 Seasons\", \"count\": 2}, {\"duration\": \"16 Seasons\", \"count\": 1}]}}, {\"mode\": \"vega-lite\"});\n",
       "</script>"
      ],
      "text/plain": [
       "alt.Chart(...)"
      ]
     },
     "execution_count": 54,
     "metadata": {},
     "output_type": "execute_result"
    }
   ],
   "source": [
    "# Creata a bar chart using altair\n",
    "alt.Chart(df_shows1).mark_bar().encode(\n",
    "    x=alt.X('duration', sort= '-y'),\n",
    "    y='count'\n",
    ").interactive()"
   ]
  },
  {
   "cell_type": "code",
   "execution_count": 55,
   "metadata": {},
   "outputs": [
    {
     "data": {
      "text/html": [
       "\n",
       "<div id=\"altair-viz-2f5592dca5e94a12acf2f8dcd5f12669\"></div>\n",
       "<script type=\"text/javascript\">\n",
       "  (function(spec, embedOpt){\n",
       "    let outputDiv = document.currentScript.previousElementSibling;\n",
       "    if (outputDiv.id !== \"altair-viz-2f5592dca5e94a12acf2f8dcd5f12669\") {\n",
       "      outputDiv = document.getElementById(\"altair-viz-2f5592dca5e94a12acf2f8dcd5f12669\");\n",
       "    }\n",
       "    const paths = {\n",
       "      \"vega\": \"https://cdn.jsdelivr.net/npm//vega@5?noext\",\n",
       "      \"vega-lib\": \"https://cdn.jsdelivr.net/npm//vega-lib?noext\",\n",
       "      \"vega-lite\": \"https://cdn.jsdelivr.net/npm//vega-lite@4.8.1?noext\",\n",
       "      \"vega-embed\": \"https://cdn.jsdelivr.net/npm//vega-embed@6?noext\",\n",
       "    };\n",
       "\n",
       "    function loadScript(lib) {\n",
       "      return new Promise(function(resolve, reject) {\n",
       "        var s = document.createElement('script');\n",
       "        s.src = paths[lib];\n",
       "        s.async = true;\n",
       "        s.onload = () => resolve(paths[lib]);\n",
       "        s.onerror = () => reject(`Error loading script: ${paths[lib]}`);\n",
       "        document.getElementsByTagName(\"head\")[0].appendChild(s);\n",
       "      });\n",
       "    }\n",
       "\n",
       "    function showError(err) {\n",
       "      outputDiv.innerHTML = `<div class=\"error\" style=\"color:red;\">${err}</div>`;\n",
       "      throw err;\n",
       "    }\n",
       "\n",
       "    function displayChart(vegaEmbed) {\n",
       "      vegaEmbed(outputDiv, spec, embedOpt)\n",
       "        .catch(err => showError(`Javascript Error: ${err.message}<br>This usually means there's a typo in your chart specification. See the javascript console for the full traceback.`));\n",
       "    }\n",
       "\n",
       "    if(typeof define === \"function\" && define.amd) {\n",
       "      requirejs.config({paths});\n",
       "      require([\"vega-embed\"], displayChart, err => showError(`Error loading script: ${err.message}`));\n",
       "    } else if (typeof vegaEmbed === \"function\") {\n",
       "      displayChart(vegaEmbed);\n",
       "    } else {\n",
       "      loadScript(\"vega\")\n",
       "        .then(() => loadScript(\"vega-lite\"))\n",
       "        .then(() => loadScript(\"vega-embed\"))\n",
       "        .catch(showError)\n",
       "        .then(() => displayChart(vegaEmbed));\n",
       "    }\n",
       "  })({\"config\": {\"view\": {\"continuousWidth\": 400, \"continuousHeight\": 300}}, \"data\": {\"name\": \"data-0db4eab773f9107525ac5c93decfa06f\"}, \"mark\": \"bar\", \"encoding\": {\"x\": {\"type\": \"nominal\", \"field\": \"duration\", \"sort\": \"-y\"}, \"y\": {\"type\": \"quantitative\", \"field\": \"count\"}}, \"selection\": {\"selector003\": {\"type\": \"interval\", \"bind\": \"scales\", \"encodings\": [\"x\", \"y\"]}}, \"$schema\": \"https://vega.github.io/schema/vega-lite/v4.8.1.json\", \"datasets\": {\"data-0db4eab773f9107525ac5c93decfa06f\": [{\"duration\": \"90 min\", \"count\": 136}, {\"duration\": \"93 min\", \"count\": 131}, {\"duration\": \"94 min\", \"count\": 125}, {\"duration\": \"91 min\", \"count\": 125}, {\"duration\": \"95 min\", \"count\": 119}, {\"duration\": \"92 min\", \"count\": 118}, {\"duration\": \"97 min\", \"count\": 117}, {\"duration\": \"96 min\", \"count\": 115}, {\"duration\": \"98 min\", \"count\": 106}, {\"duration\": \"103 min\", \"count\": 101}, {\"duration\": \"88 min\", \"count\": 101}, {\"duration\": \"99 min\", \"count\": 101}, {\"duration\": \"102 min\", \"count\": 98}, {\"duration\": \"106 min\", \"count\": 97}, {\"duration\": \"100 min\", \"count\": 97}, {\"duration\": \"101 min\", \"count\": 96}, {\"duration\": \"86 min\", \"count\": 93}, {\"duration\": \"105 min\", \"count\": 91}, {\"duration\": \"104 min\", \"count\": 89}, {\"duration\": \"89 min\", \"count\": 88}, {\"duration\": \"87 min\", \"count\": 87}, {\"duration\": \"110 min\", \"count\": 86}, {\"duration\": \"107 min\", \"count\": 85}, {\"duration\": \"108 min\", \"count\": 74}, {\"duration\": \"112 min\", \"count\": 65}, {\"duration\": \"116 min\", \"count\": 65}, {\"duration\": \"85 min\", \"count\": 63}, {\"duration\": \"109 min\", \"count\": 61}, {\"duration\": \"111 min\", \"count\": 61}, {\"duration\": \"83 min\", \"count\": 61}, {\"duration\": \"84 min\", \"count\": 60}, {\"duration\": \"81 min\", \"count\": 58}, {\"duration\": \"117 min\", \"count\": 56}, {\"duration\": \"119 min\", \"count\": 54}, {\"duration\": \"113 min\", \"count\": 54}, {\"duration\": \"118 min\", \"count\": 51}, {\"duration\": \"82 min\", \"count\": 48}, {\"duration\": \"120 min\", \"count\": 47}, {\"duration\": \"115 min\", \"count\": 47}, {\"duration\": \"124 min\", \"count\": 46}, {\"duration\": \"114 min\", \"count\": 45}, {\"duration\": \"121 min\", \"count\": 44}, {\"duration\": \"127 min\", \"count\": 40}, {\"duration\": \"78 min\", \"count\": 40}, {\"duration\": \"126 min\", \"count\": 40}, {\"duration\": \"80 min\", \"count\": 39}, {\"duration\": \"128 min\", \"count\": 38}, {\"duration\": \"122 min\", \"count\": 38}, {\"duration\": \"130 min\", \"count\": 38}, {\"duration\": \"137 min\", \"count\": 37}, {\"duration\": \"135 min\", \"count\": 37}, {\"duration\": \"133 min\", \"count\": 36}, {\"duration\": \"123 min\", \"count\": 35}, {\"duration\": \"79 min\", \"count\": 34}, {\"duration\": \"132 min\", \"count\": 33}, {\"duration\": \"75 min\", \"count\": 33}, {\"duration\": \"72 min\", \"count\": 32}, {\"duration\": \"125 min\", \"count\": 32}, {\"duration\": \"129 min\", \"count\": 30}, {\"duration\": \"66 min\", \"count\": 29}, {\"duration\": \"63 min\", \"count\": 29}, {\"duration\": \"74 min\", \"count\": 29}, {\"duration\": \"61 min\", \"count\": 28}, {\"duration\": \"131 min\", \"count\": 28}, {\"duration\": \"73 min\", \"count\": 28}, {\"duration\": \"77 min\", \"count\": 28}, {\"duration\": \"69 min\", \"count\": 27}, {\"duration\": \"60 min\", \"count\": 26}, {\"duration\": \"71 min\", \"count\": 26}, {\"duration\": \"59 min\", \"count\": 24}, {\"duration\": \"76 min\", \"count\": 24}, {\"duration\": \"53 min\", \"count\": 24}, {\"duration\": \"46 min\", \"count\": 23}, {\"duration\": \"62 min\", \"count\": 23}, {\"duration\": \"54 min\", \"count\": 23}, {\"duration\": \"24 min\", \"count\": 22}, {\"duration\": \"70 min\", \"count\": 22}, {\"duration\": \"140 min\", \"count\": 22}, {\"duration\": \"65 min\", \"count\": 22}, {\"duration\": \"134 min\", \"count\": 21}, {\"duration\": \"58 min\", \"count\": 21}, {\"duration\": \"68 min\", \"count\": 20}, {\"duration\": \"52 min\", \"count\": 19}, {\"duration\": \"67 min\", \"count\": 19}, {\"duration\": \"44 min\", \"count\": 19}, {\"duration\": \"136 min\", \"count\": 18}, {\"duration\": \"143 min\", \"count\": 18}, {\"duration\": \"148 min\", \"count\": 18}, {\"duration\": \"141 min\", \"count\": 18}, {\"duration\": \"138 min\", \"count\": 17}, {\"duration\": \"150 min\", \"count\": 17}, {\"duration\": \"139 min\", \"count\": 17}, {\"duration\": \"64 min\", \"count\": 16}, {\"duration\": \"55 min\", \"count\": 15}, {\"duration\": \"22 min\", \"count\": 15}, {\"duration\": \"57 min\", \"count\": 14}, {\"duration\": \"151 min\", \"count\": 14}, {\"duration\": \"146 min\", \"count\": 13}, {\"duration\": \"162 min\", \"count\": 13}, {\"duration\": \"40 min\", \"count\": 13}, {\"duration\": \"149 min\", \"count\": 13}, {\"duration\": \"154 min\", \"count\": 12}, {\"duration\": \"56 min\", \"count\": 12}, {\"duration\": \"145 min\", \"count\": 12}, {\"duration\": \"23 min\", \"count\": 12}, {\"duration\": \"158 min\", \"count\": 11}, {\"duration\": \"142 min\", \"count\": 11}, {\"duration\": \"153 min\", \"count\": 11}, {\"duration\": \"163 min\", \"count\": 11}, {\"duration\": \"29 min\", \"count\": 10}, {\"duration\": \"147 min\", \"count\": 10}, {\"duration\": \"51 min\", \"count\": 10}, {\"duration\": \"45 min\", \"count\": 10}, {\"duration\": \"28 min\", \"count\": 10}, {\"duration\": \"25 min\", \"count\": 10}, {\"duration\": \"50 min\", \"count\": 10}, {\"duration\": \"47 min\", \"count\": 10}, {\"duration\": \"156 min\", \"count\": 9}, {\"duration\": \"161 min\", \"count\": 9}, {\"duration\": \"155 min\", \"count\": 9}, {\"duration\": \"49 min\", \"count\": 8}, {\"duration\": \"165 min\", \"count\": 8}, {\"duration\": \"42 min\", \"count\": 8}, {\"duration\": \"144 min\", \"count\": 8}, {\"duration\": \"166 min\", \"count\": 7}, {\"duration\": \"171 min\", \"count\": 7}, {\"duration\": \"48 min\", \"count\": 7}, {\"duration\": \"32 min\", \"count\": 7}, {\"duration\": \"168 min\", \"count\": 7}, {\"duration\": \"159 min\", \"count\": 6}, {\"duration\": \"30 min\", \"count\": 6}, {\"duration\": \"157 min\", \"count\": 6}, {\"duration\": \"160 min\", \"count\": 6}, {\"duration\": \"26 min\", \"count\": 6}, {\"duration\": \"176 min\", \"count\": 5}, {\"duration\": \"170 min\", \"count\": 5}, {\"duration\": \"185 min\", \"count\": 5}, {\"duration\": \"152 min\", \"count\": 5}, {\"duration\": \"33 min\", \"count\": 5}, {\"duration\": \"173 min\", \"count\": 5}, {\"duration\": \"164 min\", \"count\": 4}, {\"duration\": \"172 min\", \"count\": 4}, {\"duration\": \"177 min\", \"count\": 4}, {\"duration\": \"38 min\", \"count\": 4}, {\"duration\": \"27 min\", \"count\": 3}, {\"duration\": \"17 min\", \"count\": 3}, {\"duration\": \"35 min\", \"count\": 3}, {\"duration\": \"41 min\", \"count\": 3}, {\"duration\": \"14 min\", \"count\": 3}, {\"duration\": \"192 min\", \"count\": 2}, {\"duration\": \"190 min\", \"count\": 2}, {\"duration\": \"37 min\", \"count\": 2}, {\"duration\": \"12 min\", \"count\": 2}, {\"duration\": \"19 min\", \"count\": 2}, {\"duration\": \"209 min\", \"count\": 2}, {\"duration\": \"11 min\", \"count\": 2}, {\"duration\": \"15 min\", \"count\": 2}, {\"duration\": \"181 min\", \"count\": 2}, {\"duration\": \"34 min\", \"count\": 2}, {\"duration\": \"187 min\", \"count\": 2}, {\"duration\": \"195 min\", \"count\": 2}, {\"duration\": \"180 min\", \"count\": 2}, {\"duration\": \"169 min\", \"count\": 2}, {\"duration\": \"21 min\", \"count\": 2}, {\"duration\": \"179 min\", \"count\": 2}, {\"duration\": \"20 min\", \"count\": 2}, {\"duration\": \"31 min\", \"count\": 2}, {\"duration\": \"174 min\", \"count\": 2}, {\"duration\": \"228 min\", \"count\": 1}, {\"duration\": \"200 min\", \"count\": 1}, {\"duration\": \"167 min\", \"count\": 1}, {\"duration\": \"230 min\", \"count\": 1}, {\"duration\": \"194 min\", \"count\": 1}, {\"duration\": \"253 min\", \"count\": 1}, {\"duration\": \"18 min\", \"count\": 1}, {\"duration\": \"224 min\", \"count\": 1}, {\"duration\": \"178 min\", \"count\": 1}, {\"duration\": \"214 min\", \"count\": 1}, {\"duration\": \"16 min\", \"count\": 1}, {\"duration\": \"8 min\", \"count\": 1}, {\"duration\": \"10 min\", \"count\": 1}, {\"duration\": \"189 min\", \"count\": 1}, {\"duration\": \"13 min\", \"count\": 1}, {\"duration\": \"3 min\", \"count\": 1}, {\"duration\": \"203 min\", \"count\": 1}, {\"duration\": \"191 min\", \"count\": 1}, {\"duration\": \"186 min\", \"count\": 1}, {\"duration\": \"237 min\", \"count\": 1}, {\"duration\": \"201 min\", \"count\": 1}, {\"duration\": \"5 min\", \"count\": 1}, {\"duration\": \"208 min\", \"count\": 1}, {\"duration\": \"9 min\", \"count\": 1}, {\"duration\": \"43 min\", \"count\": 1}, {\"duration\": \"205 min\", \"count\": 1}, {\"duration\": \"233 min\", \"count\": 1}, {\"duration\": \"204 min\", \"count\": 1}, {\"duration\": \"36 min\", \"count\": 1}, {\"duration\": \"312 min\", \"count\": 1}, {\"duration\": \"193 min\", \"count\": 1}, {\"duration\": \"182 min\", \"count\": 1}, {\"duration\": \"196 min\", \"count\": 1}]}}, {\"mode\": \"vega-lite\"});\n",
       "</script>"
      ],
      "text/plain": [
       "alt.Chart(...)"
      ]
     },
     "execution_count": 55,
     "metadata": {},
     "output_type": "execute_result"
    }
   ],
   "source": [
    "# Creata a bar chart using altair\n",
    "alt.Chart(df_movies1).mark_bar().encode(\n",
    "    x=alt.X('duration', sort= '-y'),\n",
    "    y='count'\n",
    ").interactive()"
   ]
  },
  {
   "cell_type": "code",
   "execution_count": null,
   "metadata": {},
   "outputs": [],
   "source": []
  }
 ],
 "metadata": {
  "kernelspec": {
   "display_name": "Python 3",
   "language": "python",
   "name": "python3"
  },
  "language_info": {
   "codemirror_mode": {
    "name": "ipython",
    "version": 3
   },
   "file_extension": ".py",
   "mimetype": "text/x-python",
   "name": "python",
   "nbconvert_exporter": "python",
   "pygments_lexer": "ipython3",
   "version": "3.8.3"
  }
 },
 "nbformat": 4,
 "nbformat_minor": 4
}
